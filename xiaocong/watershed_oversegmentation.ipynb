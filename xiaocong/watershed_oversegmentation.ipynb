{
 "cells": [
  {
   "cell_type": "code",
   "execution_count": null,
   "metadata": {
    "collapsed": true
   },
   "outputs": [],
   "source": [
    "import numpy as np\n",
    "import matplotlib.pyplot as plt\n",
    "from scipy import ndimage as ndi\n",
    "\n",
    "from libtiff import TIFF\n",
    "import cv2\n",
    "\n",
    "from skimage.segmentation import watershed\n",
    "from skimage.feature import peak_local_max\n",
    "\n",
    "# Generate an initial image with two overlapping circles\n",
    "tif = TIFF.open('t100.tif',mode='r')\n",
    "image = tif.read_image()\n",
    "image1 = image\n",
    "#image = cv2.bilateralFilter(image,9,75,75)\n",
    "#image = cv2.imread('t001.tif',cv2.IMREAD_UNCHANGED)\n",
    "#image = cv2.medianBlur(image, 5)\n",
    "\n",
    "sobelX = cv2.Sobel(image,cv2.CV_64F,1,0)#x方向的梯度\n",
    "sobelY = cv2.Sobel(image,cv2.CV_64F,0,1)#y方向的梯度\n",
    "sobelX = np.uint8(np.absolute(sobelX))#x方向梯度的绝对值\n",
    "sobelY = np.uint8(np.absolute(sobelY))#y方向梯度的绝对值\n",
    "image = cv2.bitwise_or(sobelX,sobelY)#\n",
    "ret, image = cv2.threshold(image, 0, 255, cv2.THRESH_BINARY+cv2.THRESH_OTSU)\n",
    "\n",
    "#kernel = np.ones((3,3), np.uint8)\n",
    "#image = cv2.morphologyEx(image, cv2.MORPH_CLOSE, kernel)\n",
    "#image = cv2.GaussianBlur(image,(9,9),0)\n",
    "image = cv2.dilate(image, np.ones((11,11), np.uint8))\n",
    "image = cv2.erode(image, np.ones((15,15), np.uint8))\n",
    "\n",
    "# Now we want to separate the two objects in image\n",
    "# Generate the markers as local maxima of the distance to the background\n",
    "distance = ndi.distance_transform_edt(image)\n",
    "local_maxi = peak_local_max(distance, indices=False, footprint=np.ones((3, 3)),\n",
    "                            labels=image)\n",
    "markers = ndi.label(local_maxi)[0]\n",
    "labels = watershed(-distance, markers, mask=image)\n",
    "\n",
    "fig, axes = plt.subplots(ncols=3, figsize=(9, 3), sharex=True, sharey=True)\n",
    "ax = axes.ravel()\n",
    "\n",
    "ax[0].imshow(image1, cmap=plt.cm.gray)\n",
    "ax[0].set_title('Objects')\n",
    "ax[1].imshow(-distance, cmap=plt.cm.gray)\n",
    "ax[1].set_title('Distances')\n",
    "ax[2].imshow(labels, cmap=plt.cm.nipy_spectral)\n",
    "ax[2].set_title('Separated objects')\n",
    "\n",
    "for a in ax:\n",
    "    a.set_axis_off()\n",
    "\n",
    "fig.tight_layout()\n",
    "plt.show()\n"
   ]
  }
 ],
 "metadata": {
  "kernelspec": {
   "display_name": "Python 3",
   "language": "python",
   "name": "python3"
  },
  "language_info": {
   "codemirror_mode": {
    "name": "ipython",
    "version": 2
   },
   "file_extension": ".py",
   "mimetype": "text/x-python",
   "name": "python",
   "nbconvert_exporter": "python",
   "pygments_lexer": "ipython2",
   "version": "2.7.6"
  },
  "pycharm": {
   "stem_cell": {
    "cell_type": "raw",
    "source": [],
    "metadata": {
     "collapsed": false
    }
   }
  }
 },
 "nbformat": 4,
 "nbformat_minor": 0
}
