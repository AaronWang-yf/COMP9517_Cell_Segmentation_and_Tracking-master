{
 "cells": [
  {
   "cell_type": "code",
   "execution_count": 15,
   "metadata": {},
   "outputs": [],
   "source": [
    "import cv2\n",
    "import matplotlib.pyplot as plt\n",
    "import numpy as np\n",
    "\n",
    "def find_centre(path):\n",
    "    \n",
    "    # code base on yf's task1.py\n",
    "\n",
    "    img = cv2.imread(path, cv2.IMREAD_GRAYSCALE)\n",
    "\n",
    "    kernel = 11\n",
    "    img = cv2.GaussianBlur(img, (kernel, kernel), 0)\n",
    "    hist, bins = np.histogram(img.flatten(), 256, [0, 256])\n",
    "    th = np.where(hist == np.max(hist))\n",
    "    ret, thresh = cv2.threshold(img, th[0] + 1, 255, cv2.THRESH_BINARY)\n",
    "    thresh = cv2.erode(thresh, np.ones((9, 9)))\n",
    "    thresh = cv2.dilate(thresh, np.ones((9, 9)))\n",
    "\n",
    "    thresh, contours, hirearchy = cv2.findContours(thresh, cv2.RETR_TREE, cv2.CHAIN_APPROX_SIMPLE)\n",
    "    original = cv2.imread(path,1)\n",
    "\n",
    "    draw = cv2.drawContours(original, contours, -1, (0, 255, 0), 2)\n",
    "\n",
    "    centX = []\n",
    "    centY = []\n",
    "    for i,j in zip(contours,range(len(contours))):\n",
    "        M = cv2.moments(i)\n",
    "        cX = int(M[\"m10\"]/M[\"m00\"])\n",
    "        cY = int(M[\"m01\"]/M[\"m00\"])\n",
    "        centX.append(cX)\n",
    "        centY.append(cY)\n",
    "        \n",
    "    return centX,centY\n"
   ]
  },
  {
   "cell_type": "code",
   "execution_count": 16,
   "metadata": {},
   "outputs": [],
   "source": [
    "ax,ay = find_centre('t000.tif')\n",
    "bx,by = find_centre('t001.tif')"
   ]
  },
  {
   "cell_type": "code",
   "execution_count": 17,
   "metadata": {},
   "outputs": [
    {
     "name": "stdout",
     "output_type": "stream",
     "text": [
      "[391, 675]\n",
      "[382, 640]\n",
      "[194, 598]\n",
      "[165, 569]\n",
      "[932, 554]\n",
      "[970, 554]\n",
      "[115, 524]\n",
      "[51, 514]\n",
      "[19, 503]\n",
      "[120, 468]\n",
      "[351, 462]\n",
      "[76, 462]\n",
      "[488, 449]\n",
      "[524, 437]\n",
      "[1032, 402]\n",
      "[278, 300]\n",
      "[245, 278]\n",
      "[834, 219]\n",
      "[959, 217]\n",
      "[808, 199]\n",
      "[953, 182]\n",
      "[463, 181]\n",
      "[408, 169]\n",
      "[510, 159]\n",
      "[682, 21]\n"
     ]
    }
   ],
   "source": [
    "for i in range(len(ax)):\n",
    "    print([ax[i],ay[i]])"
   ]
  },
  {
   "cell_type": "code",
   "execution_count": 18,
   "metadata": {},
   "outputs": [
    {
     "name": "stdout",
     "output_type": "stream",
     "text": [
      "[391, 676]\n",
      "[382, 641]\n",
      "[193, 600]\n",
      "[166, 570]\n",
      "[968, 556]\n",
      "[936, 552]\n",
      "[116, 526]\n",
      "[55, 512]\n",
      "[21, 500]\n",
      "[353, 463]\n",
      "[117, 467]\n",
      "[77, 461]\n",
      "[490, 451]\n",
      "[361, 436]\n",
      "[525, 438]\n",
      "[1032, 403]\n",
      "[278, 299]\n",
      "[243, 277]\n",
      "[959, 219]\n",
      "[835, 218]\n",
      "[808, 199]\n",
      "[953, 183]\n",
      "[465, 181]\n",
      "[402, 172]\n",
      "[511, 158]\n"
     ]
    }
   ],
   "source": [
    "for i in range(len(ax)):\n",
    "    print([bx[i],by[i]])"
   ]
  },
  {
   "cell_type": "code",
   "execution_count": 19,
   "metadata": {},
   "outputs": [
    {
     "data": {
      "image/png": "[encoded data removed]",
      "text/plain": [
       "<Figure size 432x288 with 1 Axes>"
      ]
     },
     "metadata": {
      "needs_background": "light"
     },
     "output_type": "display_data"
    }
   ],
   "source": [
    "plt.ylim(700,0)\n",
    "for i in range(len(ax)):\n",
    "    plt.plot([ax[i],bx[i]],[ay[i],by[i]],color='r')\n",
    "    plt.scatter([ax[i],bx[i]],[ay[i],by[i]],color='b')"
   ]
  },
  {
   "cell_type": "code",
   "execution_count": null,
   "metadata": {},
   "outputs": [],
   "source": [
    "#red lines matches wrong but blue is correct\n",
    "\n",
    "#maybe sort them first accroding to their position\n",
    "#find the nearest one because the movement is slight\n",
    "\n",
    "#but don't know how to deal with motosis"
   ]
  }
 ],
 "metadata": {
  "kernelspec": {
   "display_name": "Python 3",
   "language": "python",
   "name": "python3"
  },
  "language_info": {
   "codemirror_mode": {
    "name": "ipython",
    "version": 3
   },
   "file_extension": ".py",
   "mimetype": "text/x-python",
   "name": "python",
   "nbconvert_exporter": "python",
   "pygments_lexer": "ipython3",
   "version": "3.7.3"
  }
 },
 "nbformat": 4,
 "nbformat_minor": 4
}
