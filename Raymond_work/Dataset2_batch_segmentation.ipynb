{
 "cells": [
  {
   "cell_type": "code",
   "execution_count": 1,
   "metadata": {},
   "outputs": [],
   "source": [
    "import numpy as np\n",
    "import matplotlib.pyplot as plt\n",
    "from scipy import ndimage as ndi\n",
    "\n",
    "from libtiff import TIFF\n",
    "import cv2\n",
    "\n",
    "from skimage.segmentation import watershed\n",
    "from skimage.feature import peak_local_max"
   ]
  },
  {
   "cell_type": "code",
   "execution_count": 2,
   "metadata": {},
   "outputs": [],
   "source": [
    "import os\n",
    "file_lst = []\n",
    "os.chdir(\"/Users/minruilu/Desktop/OneDrive - UNSW/UNSW/2020 Semester 2/comp9517/project/COMP9517 20T2 Group Project Image Sequences/PhC-C2DL-PSC/Sequence 1\")\n",
    "for root, dirs, files in os.walk(\".\", topdown=False):\n",
    "    for name in files:\n",
    "        if name.endswith(\"tif\"):\n",
    "            file_lst.append(os.path.join(root, name))\n",
    "if not os.path.exists(\"THRESHOLD\"):\n",
    "    os.mkdir(\"THRESHOLD\")"
   ]
  },
  {
   "cell_type": "code",
   "execution_count": 102,
   "metadata": {},
   "outputs": [],
   "source": [
    "# For dataset 2 Fluo-N2DL-HeLa\n",
    "def watershed_batch_process_2(img_path): \n",
    "    tif = TIFF.open(img_path,mode='r')\n",
    "    image = tif.read_image()\n",
    "    sobelX = cv2.Sobel(image,cv2.CV_64F,1,0)# gradient in x direction\n",
    "    sobelY = cv2.Sobel(image,cv2.CV_64F,0,1)# gradient in y direction\n",
    "    sobelX = np.uint8(np.absolute(sobelX))\n",
    "    sobelY = np.uint8(np.absolute(sobelY))\n",
    "    image = cv2.bitwise_or(sobelX,sobelY)\n",
    "    ret, image = cv2.threshold(image, 0, 255, cv2.THRESH_BINARY+cv2.THRESH_OTSU)\n",
    "    image = cv2.medianBlur(image, 9)\n",
    "    image = cv2.dilate(image, np.ones((3,3), np.uint8))\n",
    "    image = cv2.erode(image, np.ones((19,19), np.uint8))\n",
    "    image = cv2.dilate(image, np.ones((13,13), np.uint8))\n",
    "    distance = ndi.distance_transform_edt(image)\n",
    "    local_maxi = peak_local_max(distance, indices=False, footprint=np.ones((9, 9)),\n",
    "                                labels=image)\n",
    "    markers = ndi.label(local_maxi)[0]\n",
    "    labels = watershed(-distance, markers, mask=image)\n",
    "    labels = cv2.normalize(labels,None, 0, 255, cv2.NORM_MINMAX)\n",
    "    labels[np.where(labels>10)] = 255\n",
    "    cv2.imwrite(\"./WATERSHED/\"+img_path,labels)"
   ]
  },
  {
   "cell_type": "code",
   "execution_count": 103,
   "metadata": {},
   "outputs": [],
   "source": [
    "# For dataset 3 PhC-C2DL-PSC\n",
    "def watershed_batch_process_3(img_path): \n",
    "    tif = TIFF.open(img_path,mode='r')\n",
    "    image = tif.read_image()\n",
    "    sobelX = cv2.Sobel(image,cv2.CV_64F,1,0)# the gradient of x direction\n",
    "    sobelY = cv2.Sobel(image,cv2.CV_64F,0,1)# the gradient of y direction\n",
    "    sobelX = np.uint8(np.absolute(sobelX))\n",
    "    sobelY = np.uint8(np.absolute(sobelY))\n",
    "    image = cv2.bitwise_or(sobelX,sobelY)#\n",
    "    ret, image = cv2.threshold(image, 0, 255, cv2.THRESH_BINARY+cv2.THRESH_OTSU)\n",
    "    image = cv2.medianBlur(image, 5)\n",
    "    image = cv2.dilate(image, np.ones((3,3), np.uint8))\n",
    "    image = cv2.erode(image, np.ones((11,11), np.uint8))\n",
    "    image = cv2.dilate(image, np.ones((7,7), np.uint8))\n",
    "    distance = ndi.distance_transform_edt(image)\n",
    "    local_maxi = peak_local_max(distance, indices=False, footprint=np.ones((13, 13)),\n",
    "                            labels=image)\n",
    "    markers = ndi.label(local_maxi)[0]\n",
    "    labels = watershed(-distance, markers, mask=image)\n",
    "    labels = cv2.normalize(labels,None, 0, 255, cv2.NORM_MINMAX)\n",
    "    labels[np.where(labels>10)] = 255\n",
    "    cv2.imwrite(\"./WATERSHED/\"+img_path,labels)"
   ]
  },
  {
   "cell_type": "code",
   "execution_count": null,
   "metadata": {},
   "outputs": [],
   "source": [
    "# For dataset 3 PhC-C2DL-PSC\n",
    "def shreshold_batch_process_3(img_path):"
   ]
  },
  {
   "cell_type": "code",
   "execution_count": 104,
   "metadata": {},
   "outputs": [],
   "source": [
    "for img_path in file_lst:\n",
    "    watershed_batch_process_3(img_path)"
   ]
  },
  {
   "cell_type": "code",
   "execution_count": null,
   "metadata": {},
   "outputs": [],
   "source": []
  }
 ],
 "metadata": {
  "kernelspec": {
   "display_name": "Python 3.7.4 64-bit ('base': conda)",
   "language": "python",
   "name": "python37464bitbasecondae12d9f5c992b42a399fd247777d6be47"
  },
  "language_info": {
   "codemirror_mode": {
    "name": "ipython",
    "version": 3
   },
   "file_extension": ".py",
   "mimetype": "text/x-python",
   "name": "python",
   "nbconvert_exporter": "python",
   "pygments_lexer": "ipython3",
   "version": "3.7.4"
  }
 },
 "nbformat": 4,
 "nbformat_minor": 2
}
